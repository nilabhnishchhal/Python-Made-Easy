{
 "cells": [
  {
   "cell_type": "markdown",
   "metadata": {},
   "source": [
    "# Chapter 1 Introduction to Data Science and Programming Basics\n",
    "\n",
    "## What is Data Science? \n",
    "\n",
    "Philosophers and Wise people of all the parts in the world, since ages immemorable, have debated over, what will rule the world? \n",
    "\n",
    "Is it the `Material` or the `Belief`? \n",
    "\n",
    "Certainly, they never thought about Data. \n",
    "\n",
    "Data has revolutionized industry in no lesser way than Electricity did. It has already caused `Digital Revolution` which is like a self fulfilling prophecy. Its an engine, which feeds itself and runs on it. \n",
    "\n",
    "Don't be alarmed. This, like all sciences has potential for both good, and evil. But This is by no means a new science. The advent of computers and the huge data crunching capabilities has given it a boost it needed. \n",
    "\n",
    "Today, Data rules the world, Literally. The data may not be the King, but its King maker in all aspects of the life. This claim may sound too far fetched or too stretched, but it's not. Its Real, Now and Here.\n",
    "\n",
    "When Amazon and Flipkart makes a sales based on showing you things you might be interested to buy, its using data to make that decision. \n",
    "\n",
    "When politicians world wide chose to use the social media and use their data for social profiling, they are using data to make crucial decisions like which candidate, which locality and what strategies to win.\n",
    "\n",
    "When Google Maps gives you how is the traffic on each route, they are using real time data, or live data to make that decision for you. \n",
    "\n",
    "When the share market analysts are predicting the future prices of scripts and sensex, they are using data analysis. \n",
    "\n",
    "Now, more than ever, the field of data analysis and all its allied fields, become more and more lucrative, day by day. As we become digital in every aspect of life, we are generating more data per second, which our parents used to generate in their lifetime. This data, is used to make crucial decisions, both in real time and retrospect. \n",
    "\n",
    "\n",
    "In simple words `Data Science` is the study of data so that the data makes sense and gives usable insights. It is not a certain thing or one field, but it's combination of various disciplines that are focusing on analyzing data and providing intelligent results or best solutions out of them.\n",
    "\n",
    "\n",
    "`DATA SCIENCE` is the area of study which involves extracting insights from huge amounts of data by using various scientific methods, algorithms, and processes. It helps to discover hidden patterns from the raw data. \n",
    "\n",
    "This is an interdisciplinary field that helps us extract knowledge from structured or unstructured data.\n"
   ]
  },
  {
   "cell_type": "markdown",
   "metadata": {},
   "source": [
    "## Why Data Science?\n",
    "\n",
    "Data science or data-driven science enables better decision making, pattern discovery, predictive analysis and visual representation for better communication from raw data. It lets us:\n",
    "\n",
    "+ Guides us towards the right Questions.\n",
    "+ Shows the leading cause of a problem.\n",
    "+ Helps find pattern amidst a random looking raw data.\n",
    "+ Prepare models for predictive analysis.\n",
    "+ Communicate and visualize the results via graphs, dashboards, etc.\n",
    "+ Allows to build intelligence ability in machines.\n",
    "+ Customer loyalty can be tested using sentiment analysis\n",
    "+ It enables us to take better and faster decisions.\n",
    "+ Helps us to recommend the right product to the right customer to enhance your business."
   ]
  },
  {
   "cell_type": "markdown",
   "metadata": {},
   "source": [
    "## Components of Data Science\n",
    "\n",
    "+ Data Mining\n",
    "+ Data Analytics\n",
    "+ Data Engineering\n",
    "+ Visualization\n",
    "+ Statistical Analysis"
   ]
  },
  {
   "cell_type": "markdown",
   "metadata": {},
   "source": [
    "**`“Data Scientist is a person who is better at statistics than any programmer and better at programming than any statistician.”`**\n",
    "Josh Wills"
   ]
  },
  {
   "cell_type": "markdown",
   "metadata": {},
   "source": [
    "## History of Data Science"
   ]
  },
  {
   "cell_type": "markdown",
   "metadata": {},
   "source": [
    "Data science in its present avatar, is a old wine in new bottle. Or saying old *Jinn* in new bottle may be more apt. \n",
    "\n",
    "Collection of data and drawing meaningful conclusion from it is not a recent phenomena. If we look at the real sense of it, collection of data happened since prehistoric times. The numbers used by the original herders, who needed to count their cattle. Those were the first data sets. The form might have been different, so would be scale, but they would have made decisions of life and death based on these data.\n",
    "\n",
    "| Animal  | Count  |\n",
    "|---|:-:|\n",
    "| Sheep  |23  |\n",
    "|Cows   |11  |\n",
    "|Goats  |31  |"
   ]
  },
  {
   "cell_type": "markdown",
   "metadata": {},
   "source": [
    "### Ancient History of Data\n",
    "\n",
    "**C 18,000 BCE**\n",
    "\n",
    "The earliest of human storing and analyzing data dates back to C 18,000 BCE. The Ishango Bone was discovered in 1960 in what is now Uganda and is thought to be one of the earliest pieces of evidence of prehistoric data storage. Palaeolithic tribespeople would mark notches into sticks or bones, to keep track of trading activity or supplies. They would compare sticks and notches to carry out rudimentary calculations, enabling them to make predictions such as how long their food supplies would last.\n",
    "\n",
    "**C 2400 BCE**\n",
    "\n",
    "The abacus – the first dedicated device constructed specifically for performing calculations – comes into use in Babylon. The first libraries also appeared around this time, representing our first attempts at mass data storage."
   ]
  },
  {
   "cell_type": "markdown",
   "metadata": {},
   "source": [
    "### Modern History of Data\n",
    "\n",
    "**The Emergence of Statistics**\n",
    "\n",
    "**1663**\n",
    "\n",
    "In London, John Graunt carries out the first recorded experiment in statistical data analysis. By recording information about mortality, he theorized that he can design an early warning system for the bubonic plague ravaging Europe.\n",
    "\n",
    "**1865**\n",
    "\n",
    "The term `“business intelligence”` is used by Richard Millar Devens in his Encyclopedia of Commercial and Business Anecdotes, describing how the banker Henry Furnese achieved an advantage over competitors by collecting and analyzing information relevant to his business activities in a structured manner. This is thought to be the first study of a business putting data analysis to use for commercial purposes.\n",
    "\n",
    "**1880**\n",
    "\n",
    "The US Census Bureau has a problem – it estimates that it will take it 8 years to crunch all the data collected in the 1880 census, and it is predicted that the data generated by the 1890 census will take over 10 years, meaning it will not even be ready to look at until it is outdated by the 1900 census. In 1881 a young engineer employed by the bureau – Herman Hollerith – produces what will become known as the Hollerith Tabulating Machine. Using punch cards, he reduces 10 years’ work to three months and achieves his place in history as the father of modern automated computation. The company he founds will go on to become known as IBM."
   ]
  },
  {
   "cell_type": "markdown",
   "metadata": {},
   "source": [
    "**The Early Days of Modern Data Storage**\n",
    "\n",
    "**1926**\n",
    "\n",
    "Interviewed by Colliers magazine, inventor Nikola Tesla states that when wireless technology is “perfectly applied the whole Earth will be converted into a huge brain, which in fact it is, all things being particles of a real and rhythmic whole … and the instruments through which we shall be able to do this will be amazingly simple compared to our present telephone. A man will be able to carry one in his vest pocket.”\n",
    "\n",
    "**1928**\n",
    "\n",
    "Fritz Pfleumer, a German-Austrian engineer, invents a method of storing information magnetically on tape. The principles he develops are still in use today, with the vast majority of digital data being stored magnetically on computer hard disks.\n",
    "\n",
    "\n"
   ]
  },
  {
   "cell_type": "markdown",
   "metadata": {},
   "source": [
    "**The Start of Large Data Centers**\n",
    "\n",
    "**1965**\n",
    "\n",
    "The US Government plans the world’s first data center to store 742 million tax returns and 175 million sets of fingerprints on magnetic tape."
   ]
  },
  {
   "cell_type": "markdown",
   "metadata": {},
   "source": [
    "**The Emergence of the Internet**\n",
    "\n",
    "**1991**\n",
    "\n",
    "Computer scientist Tim Berners-Lee announced the birth of what would become the Internet as we know it today.\n",
    "\n",
    "**1997**\n",
    "\n",
    "Google Search debuts and for the next 20 years, its name became shorthand for searching the internet for data.\n",
    "\n",
    "Same year, the journal Data Mining and Knowledge Discovery is launched; the reversal of the order of the two terms in its title reflecting the ascendance of “data mining” as the more popular way to designate “extracting information from large databases.”\n",
    "\n",
    "**2000**\n",
    "\n",
    "Python 2.0 was released on 16 October 2000 with many major new features, including a cycle-detecting garbage collector and support for Unicode.\n",
    "\n",
    "**2010**\n",
    "\n",
    "Eric Schmidt, executive chairman of Google, tells a conference that as much data is now being created every two days, as was created from the beginning of human civilization to the year 2003.\n",
    "\n",
    "**2011**\n",
    "\n",
    "The McKinsey report states that by 2018 the US will face a shortfall of between 140,000 and 190,000 professional data scientists, and states that issues including privacy, security and intellectual property will have to be resolved before the full value of Big Data will be realized.\n",
    "\n",
    "**2012**\n",
    "\n",
    "September 2012 Tom Davenport and D.J. Patil publish “Data Scientist: The Sexiest Job of the 21st Century” in the Harvard Business Review.\n",
    "\n",
    "**2014**\n",
    "\n",
    "The rise of the mobile machines – as for the first time, more people are using mobile devices to access digital data, than office or home computers. 88% of business executives surveyed by GE working with Accenture report that big data analytics is a top priority for their business.\n",
    "\n",
    "\n"
   ]
  },
  {
   "cell_type": "markdown",
   "metadata": {},
   "source": [
    "### Present and Future of Data Science\n",
    "\n",
    "+ **`Artificial Intelligence`** is the realm focusing on the creation of intelligent machines that work and react like humans. AI as a study dates back to 1936 when Alan Turing build first AI-powered machines. Despite quite a long history, today AI in most areas is not yet able to completely replace a human. And the competition of AI with humans in chess, and data encryption are two sides of the same coin.\n",
    "\n",
    "\n",
    "+ **`Machine learning`** is a creating tool for extracting knowledge from data. In ML models can be trained on data independently or in stages: training with a teacher, that is, having human-prepared data or training without a teacher, working with spontaneous, noisy data.\n",
    "\n",
    "\n",
    "+ **`Deep learning`** is the creation of multi-layer neural networks in areas where more advanced or fast analysis is needed and traditional machine learning cannot cope. “Depth” provides more than one hidden layer of neurons in the network that conducts mathematical calculations.\n",
    "\n",
    "\n",
    "+ **`Big Data`** — work with huge amounts of often unstructured data. The specifics of the sphere are tools and systems capable of withstanding high loads."
   ]
  },
  {
   "cell_type": "markdown",
   "metadata": {},
   "source": [
    "## What does a Data Scientist do?\n",
    "\n",
    "A data scientist analyzes business data to extract meaningful insights. In other words, a data scientist solves business problems through a series of steps, including:\n",
    "\n",
    "+ Ask the right questions to understand the problem\n",
    "\n",
    "+ Gather data from multiple sources — enterprise data, public data, etc\n",
    "\n",
    "+ Process raw data and convert it into a format suitable for analysis\n",
    "\n",
    "+ Feed the data into the analytic system — ML algorithm or a statistical model\n",
    "\n",
    "+ Prepare the results and insights to share with the appropriate stakeholders\n",
    "\n",
    "\n",
    "These leads him to answer many compelling questions, some examples are as below:\n",
    "\n",
    "\n",
    "1. Fraud Detection and detection of anomalies. for eg. change in patterns of withdrawal or expenditure of a customer credit card.\n",
    "\n",
    "2. Targeted and Personalized marketing — personal e-mail newsletters, recommendation systems on e-commerce websites. \n",
    "\n",
    "3. Metric forecasts — performance indicators, quality of advertising campaigns and other activities.\n",
    "\n",
    "4. Decision making scoring — process large amounts of data and help to make a decision, for example, on granting a loan based on credit scores.\n",
    "\n",
    "5. Predictive modeling - Prediction of a meteorite colliding with earth, based on astronomical data. \n",
    "\n",
    "These are only a few of the various things a data scientist does. "
   ]
  },
  {
   "cell_type": "markdown",
   "metadata": {},
   "source": [
    "### How does he do it?\n",
    "\n",
    "We will learn that in the due course of this book, step by step. But the same is summarized in the diagram below. \n",
    "\n",
    "![Data Science Steps](Data_Science_process.jpg)\n"
   ]
  },
  {
   "cell_type": "markdown",
   "metadata": {},
   "source": [
    "###  Prerequisites for Data Science"
   ]
  },
  {
   "cell_type": "markdown",
   "metadata": {},
   "source": [
    "**`Programming`**\n",
    "\n",
    "Some level of programming is required to execute a successful data science project. The most common programming languages are Python, and R. Python is especially popular because it’s easy to learn, and it supports multiple libraries for data science and ML.\n",
    "\n",
    "**`Statistics`**\n",
    "\n",
    "Statistics are at the core of data science. A sturdy handle on statistics can help you extract more intelligence and obtain more meaningful results.\n",
    "\n",
    "**`Databases`**\n",
    "\n",
    "A capable data scientist, you need to understand how databases work, how to manage them, and how to extract data from them.\n",
    "\n",
    "**`Modeling`**\n",
    "\n",
    "Mathematical models enable you to make quick calculations and predictions based on what you already know about the data. Modeling is also a part of ML and involves identifying which algorithm is the most suitable to solve a given problem and how to train these models."
   ]
  },
  {
   "cell_type": "markdown",
   "metadata": {},
   "source": [
    "### Data Science Jobs Roles\n",
    "\n",
    "Most prominent Data Scientist job titles are:\n",
    "\n",
    "1.\tData Scientist\n",
    "2.\tData Engineer\n",
    "3.\tData Analyst\n",
    "4.\tStatistician\n",
    "5.\tData Architect\n",
    "6.\tData Admin\n",
    "7.\tBusiness Analyst\n",
    "8.\tData/Analytics Manager\n",
    "\n",
    "Let's learn what each role entails in detail:\n",
    "\n",
    "**`Data Scientist:`**\n",
    "\n",
    "**Role:**\n",
    "\n",
    "A Data Scientist is a professional who manages enormous amounts of data to come up with compelling business visions by using various tools, techniques, methodologies, algorithms, etc.\n",
    "\n",
    "**Languages:**\n",
    "\n",
    "R, SAS, Python, SQL, Hive, Matlab, Pig, Spark\n",
    "\n",
    "**`Data Engineer:`**\n",
    "\n",
    "**Role:**\n",
    "\n",
    "The role of data engineer is of working with large amounts of data. He develops, constructs, tests, and maintains architectures like large scale processing system and databases.\n",
    "\n",
    "**Languages:**\n",
    "\n",
    "SQL, Hive, R, SAS, Matlab, Python, Java, Ruby, C + +, and Perl\n",
    "\n",
    "**`Data Analyst:`**\n",
    "\n",
    "**Role:**\n",
    "\n",
    "A data analyst is responsible for mining vast amounts of data. He or she will look for relationships, patterns, trends in data. Later he or she will deliver compelling reporting and visualization for analyzing the data to take the most viable business decisions.\n",
    "\n",
    "**Languages:**\n",
    "\n",
    "R, Python, HTML, JS, C, C+ + , SQL\n",
    "\n",
    "**`Statistician:`**\n",
    "\n",
    "**Role:**\n",
    "\n",
    "The statistician collects, analyses, understand qualitative and quantitative data by using statistical theories and methods.\n",
    "\n",
    "**Languages:**\n",
    "\n",
    "SQL, R, Matlab, Tableau, Python, Perl, Spark, and Hive\n",
    "\n",
    "**`Data Administrator:`**\n",
    "\n",
    "**Role:**\n",
    "\n",
    "Data admin should ensure that the database is accessible to all relevant users. He also makes sure that it is performing correctly and is being kept safe from hacking.\n",
    "\n",
    "**Languages:**\n",
    "\n",
    "Ruby on Rails, SQL, Java, C#, and Python\n",
    "\n",
    "**`Business Analyst:`**\n",
    "\n",
    "**Role:**\n",
    "\n",
    "This professional need to improves business processes. He/she as an intermediary between the business executive team and IT department.\n",
    "\n",
    "**Languages:**\n",
    "\n",
    "SQL, Tableau, Power BI and, Python\n",
    "\n",
    "\n",
    "**`Note:`**: Did you notice which language or languages are common to all roles? "
   ]
  },
  {
   "cell_type": "markdown",
   "metadata": {},
   "source": [
    "## Summary of Data Science Introduction\n",
    "\n",
    "Data Science has been the buzz word lately, getting entry into all aspects of life and business. What started as using computers to speed up what human's couldnt do in years, to finish in minutes, has now became a different ball game altogether in last decade. Now, Data science is a major stream in itself, and a very attractive one. \n",
    "\n",
    "You have had an idea by now, what is it and what is expected of a data science. But trust me when i say, we have not even seen the tip of the iceberg. The possibilities are infinite, literally. \n",
    "\n",
    "Some very recent and very exciting technologies which are based around data science are Self Driving cars, Personal Digital Assistants (Alexa, Google Assistant, Siri etc), Live traffic and directions on Digital Maps and of course, the personalized shopping experience. \n",
    "\n",
    "These are exciting times to be a data scientist. But only knowing the possibilities is no fun, is it. \n",
    "\n",
    "So, lets get our hands dirty, and learn how to write programs, that will use the data to provided us meaningful insights. \n",
    "\n"
   ]
  },
  {
   "cell_type": "markdown",
   "metadata": {},
   "source": [
    "## Basics of Computer Programming"
   ]
  },
  {
   "cell_type": "markdown",
   "metadata": {},
   "source": [
    "Let me share something with you. I was also not very comfortable hearing `Programming` not very long ago. Fortunately, I decided to take this heads on, and as it turned out, there is nothing to fear about. The only problem I faced was, not lack of reading material (in-fact, the opposite is true. There is so much of reading material that its overwhelming.), but where to start and what is the right path to tread. \n",
    "\n",
    "That is what I am going to help you with. I will hold your hand and walk with you on this exciting journey to start a new chapter in your learning experience. Lets learn how to talk to your computer, which is essentially what `Computer Programming` is."
   ]
  },
  {
   "cell_type": "markdown",
   "metadata": {},
   "source": [
    "## What is Programming?\n",
    "\n",
    "We all have experienced the end result of computer programming. When we play our favorite games on mobile or computers, open any mobile application or computer software, take a digital image, see photos on any screen or even send an email. There are computer programs running in the background, doing all the work, which we never see. \n",
    "\n",
    "Computer is an obedient servant, but not a very wise one. They understand exactly what we tell them, nothing more, nothing less. Hence, when we give them instruction (by way of programs), these instructions must be `specific` and `sequential`.\n",
    "\n",
    "The most suited analogy I can think of is a recipe. Lets take an easy recipe to make a bread (chapati or baked bread, or both). There are only few ingredients like flour, water and yeast (in case of baking). Each ingredient must be in the `specific` proportion. You put one cup water instead of half cup and the dough is too runny to hold its shape. In the same way, the instructions we give to the computer must be specific in order to get the desired results. The computers are very literal. They try to execute our commands exactly. If we give them bad instructions, the commands may not run at all. Or worse, it can have bug or it can crash altogether. \n",
    "\n",
    "The other characteristics of computer program is, they are `sequential`, just like the steps in a recipe. The order of the steps will determine the final product. What if, while making a chapati, we put it on fire directly, instead of heating them on hot plate (tava) for some time? They will simply break and lose shape. Similarly, What if the flour was first put in oven, and then water was added to make dough? The cooked flour will not make dough. Order of actions matters. The same thing can be said about programming. It's all about giving computers the right instructions and the correct sequence of steps to produce the desired result.\n",
    "\n",
    "So, to recap, programming is how we communicate with the computer. It's characteristics are instructions that are specific and sequential. And just like a recipe, when we get our programs right, we get to enjoy the final product. \n",
    "\n",
    "In simple terms, Programming is ideas converted into 'step by step' instructions that a computer can understand. This step by step instruction, is called `algorithm`.\n"
   ]
  },
  {
   "cell_type": "markdown",
   "metadata": {},
   "source": [
    "### Computer Algorithm\n",
    "\n",
    "In order to instruct the computer to do anything, the instruction must be written in form of a `computer program`. To write a computer program, you have to tell the computer step by step, exactly what you want it to do. The computer then runs or executes the program and follows it step by step, to complete the task. \n",
    "\n",
    "When you are telling the computer what to do, you also tell it *how* to do it. This how is the computer algorithm.\n",
    "\n",
    "**`Definition`**: In computer science, an algorithm is a finite sequence of well-defined, computer-implementable instructions, typically to solve a problem or to perform a computation. Algorithms are always unambiguous and are used as specifications for performing calculations, data processing, automated reasoning, and other tasks.\n",
    "\n",
    "In computer systems, an algorithm is basically an instance of logic written in software by software developers, to be effective for the intended target computer(s) to produce output from given input. An optimal algorithm would produce faster results than a non-optimal algorithm for the same purpose. That is why algorithms, like computer hardware, are considered technology.\n",
    "\n",
    "Let me give you few examples of Algorithm, which will make it more understandable. Lets take a real life example first, and them computational examples. \n",
    "\n",
    "**Real life Example of algorithm**\n",
    "\n",
    "Write an algorithm of how to make tea. Ingredients are water, sugar, milk and tea leaves to make two cups of tea.\n",
    "\n",
    "+ Step 1: Start\n",
    "\n",
    "+ Step 2: Take a pan with one cup of water in it.\n",
    "\n",
    "+ Step 3: Light the burner and put the pan on it. \n",
    "\n",
    "+ Step 4: Bring the water to a boil.\n",
    "\n",
    "+ Step 5: Add two table spoon sugar and two table spoon Tea leaves in the boiling water.\n",
    "\n",
    "+ Step 6: Add one cup of milk to the boiling mixture. \n",
    "\n",
    "+ Step 7: Boil the contents in the pan for one minute.\n",
    "\n",
    "+ Step 8: Switch off the burner.\n",
    "\n",
    "+ Step 9: Filter the tea leaves from tea using a sieve. \n",
    "\n",
    "+ Step 10: Pour the tea in cups and serve it.\n",
    "\n",
    "+ Step 11: Stop\n",
    "\n",
    "\n",
    "**Computation Example of algorithm**\n",
    "\n",
    "Write an algorithm of how to sum 2+2 to give 4 as result.\n",
    "\n",
    "+ Step 1: Start\n",
    "\n",
    "+ Step 2: Type 2 + 2\n",
    "\n",
    "+ Step 3: Press Enter\n",
    "\n",
    "+ Step 4: Stop\n",
    "\n",
    "\n",
    "The algorithm are made of 3 kind of statements. Any combination of these 3 kinds can be present in an algorithm. \n",
    "\n",
    "1. Sequence Statements\n",
    "\n",
    "2. Selection Statements\n",
    "\n",
    "3. Looping or Iterating Statements\n",
    "\n",
    "#### Sequence Statements\n",
    "\n",
    "In these Programs, one statement is executed after the another, in a sequential manner.\n",
    "\n",
    "The above two examples, making the tea and calculating 2+2, both are examples of Sequence statements. Lets take on more example.\n",
    "\n",
    "**Example** Calculate age of a person given his year of birth.\n",
    "\n",
    "+ Step 1: Start\n",
    "\n",
    "+ Step 2: Take the year of birth and Store in YOB. \n",
    "\n",
    "+ Step 3: Take the current year and store in CY.\n",
    "\n",
    "+ Step 4: Subtract YOB from CY and save in Age.\n",
    "\n",
    "+ Step 5: Print Age.\n",
    "\n",
    "+ Step 6: Stop\n",
    "\n",
    "\n",
    "#### Selection Statements\n",
    "\n",
    "In these Programs, some part of the program is executed based on a certain condition being fulfilled or not. If the condition is fulfilled, computer will execute one part of the program, and if the condition is not fulfilled, the other part of the program is executed.\n",
    "\n",
    "**Example** Write and algorithm to check if a person has fever or not. Condition is, its fever if temperature is above 99 Degree Fahrenheit. \n",
    "\n",
    "\n",
    "+ Step 1: Start\n",
    "\n",
    "+ Step 2: Take the temperature and Store in TEMP. \n",
    "\n",
    "+ Step 3: Check TEMP value. If its more than 99 Degree Fahrenheit, then go to step 4, otherwise go to Step 5.\n",
    "\n",
    "+ Step 4: Print \"He has Fever\" and go to step 6.\n",
    "\n",
    "+ Step 5: Print \"He does not has Fever\".\n",
    "\n",
    "+ Step 6: Stop\n",
    "\n",
    "#### Looping or Iterating Statements\n",
    "\n",
    "In some programs, certain steps are executed again and again, based on conditional test. These repetitions are called iterations. The iteration is done using one or more looping technique. Hence this kind of programs are called Looping or Iterating statements. \n",
    "\n",
    "**Example** Print all the numbers from 1 to 10.\n",
    "\n",
    "+ Step 1: Start\n",
    "\n",
    "+ Step 2: Store 1 in i. \n",
    "\n",
    "+ Step 3: Check if value of i <= 10. If yes, go to step 4. If False, go to step 7. \n",
    "\n",
    "+ Step 4: Print i.\n",
    "\n",
    "+ Step 5: Increase the value of i by 1.\n",
    "\n",
    "+ Step 6: Go to Step 3. \n",
    "\n",
    "+ Step 7: Stop\n",
    "\n",
    "\n",
    "In this example, the Steps 3 to 5 are iterated till the condition in the step 3 is fulfilled. Once it returns false, the loop ends. \n"
   ]
  },
  {
   "cell_type": "markdown",
   "metadata": {},
   "source": [
    "We talked about programming languages a bit in the data science introduction. Lets now understand what they are? How are they similar and yet different from the languages we speak and write?\n",
    "\n",
    "\n",
    "### What is a programming language?\n",
    "\n",
    "When we want to give instructions to a computer, we use Programming Language. There are hundreds of programming languages. Just like human languages, different programming languages have different rules (syntax) and meaning (semantics). We use different words, spelling and pronunciation for same words in different languages, similarly, same message in different languages is written very differently. \n",
    "\n",
    "to show what and how things change with programming languages, I will show you one example, of same program or instruction, in different languages. You will notice the differences yourself. \n",
    "\n"
   ]
  },
  {
   "cell_type": "markdown",
   "metadata": {},
   "source": [
    "**`\"Hello World !\" Program in C++`**\n",
    "```C++\n",
    "#include <iostream>\n",
    "\n",
    "int main() {\n",
    "    std::cout << \"Hello World!\";\n",
    "    return 0;\n",
    "}\n",
    "\n",
    "```\n",
    "\n",
    "**`\"Hello World !\" Program in Java`**\n",
    "```java\n",
    "\n",
    "class HelloWorld {\n",
    "    public static void main(String[] args) {\n",
    "        System.out.println(\"Hello, World!\"); \n",
    "    }\n",
    "}\n",
    "\n",
    "```\n",
    "\n",
    "\n",
    "**`\"Hello World !\" Program in Python`**\n",
    "```python\n",
    "\n",
    "print(\"Hello World !\")\n",
    "\n",
    "```"
   ]
  },
  {
   "cell_type": "markdown",
   "metadata": {},
   "source": [
    "This is the simplest line of code in many languages, and hence used to showcase most of the time. I do not expect you to understand how the program is written or being executed, as we will come to that later. As for now, let's highlight the differences in syntax between languages. \n",
    "\n",
    "First take a look at the programming language called C++. The image above will show how we would get the program to display Hello, world when run. I want you to just notice the syntax used in the language. This consists of `double quotes` around the words Hello, world, the use of a `semicolon` at the end of statements, and there's a `return` keyword right before a closing `curly brace`. All of these things are part of the syntax, or rules, of the C++ programming language. \n",
    "\n",
    "\n",
    "The second example is in the programming language called Java. This is one of the most popular language used in mobile apps and other software developments these days. Notice how we would display Hello world! using Java. Notice the use of different syntax. \n",
    "\n",
    "Also look at the same Hello World! program written in another programming language called Python. This is one of the most popular language in Data Science and Machine learning environment. Notice here the syntax is entirely different and much cleaner and simpler. "
   ]
  },
  {
   "cell_type": "markdown",
   "metadata": {},
   "source": [
    "You must be thinking, why to complicate things with so many programming languages. Why not only one Programming language, which is used by all. The reason is, all programming languages have their own strength and shortcomings. Some are ideal for making websites, while some other are for making mobile applications, and some else are made to handle very complex mathematical calculations. \n",
    "\n"
   ]
  },
  {
   "cell_type": "markdown",
   "metadata": {},
   "source": [
    "Regardless of the `Programming language` you chose, the computer doesn't understand it. The computer understands a very different language, and thats is called `Machine Language`. Machine language is very difficult for us to write in directly, because it's very complex, and comprises of mostly series of numbers. That is why we call these programming languages `high level languages`, because they are closer to actual human languages. I will tell you shortly how the high level languages are converted to machine languages, and also, why you need not worry about it at all. "
   ]
  },
  {
   "cell_type": "markdown",
   "metadata": {},
   "source": [
    "### What is Source Code?"
   ]
  },
  {
   "cell_type": "markdown",
   "metadata": {},
   "source": [
    "Source code is what programmers of all kind of programming languages write. It's the instruction we give to the computers, and its written in plain text. There is no formatting like bold, italics or underlining in plain text. Hence the word processors like MS Word or Libre office or Google Docs are not the right softwares to write source codes. Because when we write in word processors, they by default insert other *informations* embedded in the text, like font type, indentation or bold/italics or any other formatting, which prevents them from being plain text. The source code has to be in actual characters.\n",
    "\n",
    "Instead you can use `text editors`. In all windows PC, Notepad comes default. Mac users can use TextEdit. There are plenty other text editors available as well. So the point to remember is, `Rich Text Format` is not suitable for source code, only `plain text` is suitable. \n",
    "\n",
    "Now are you ready to write your first Computer program or Source code?\n",
    "\n",
    "\n"
   ]
  },
  {
   "cell_type": "markdown",
   "metadata": {},
   "source": [
    "We will write the same program that is used to teach the beginners since long time. The \"Hello World!\" program. We wil use the python language syntax for now. \n",
    "\n",
    "So open your Notepad or any text editor, and write this line\n",
    "\n",
    "```python\n",
    "print(\"Hello World!\")\n",
    "```"
   ]
  },
  {
   "cell_type": "markdown",
   "metadata": {},
   "source": [
    "Congratulations...\n",
    "\n",
    "You have written your first Source code. "
   ]
  },
  {
   "cell_type": "markdown",
   "metadata": {},
   "source": [
    "Source code can be one line or as simple as we just wrote, or it can be thousands of lines and extremely complex one. It depends on the need or the purpose of your program. \n",
    "\n",
    "Now lets save our source code. Every Programming language has its file type or extension. By default, the text editor will save it as `.txt` or text file. But we will save it as the python extension, as we wrote the source code for python. The extension for Python file is `.py`. So lets save this file as Hello_World.py.\n",
    "\n",
    "Now we know how to write our source code, and save it too. It's time that we need to learn how to translate it to the language that the computer understands, Machine Language. \n",
    "\n"
   ]
  },
  {
   "cell_type": "markdown",
   "metadata": {},
   "source": [
    "### How to Run the Source Code?"
   ]
  },
  {
   "cell_type": "markdown",
   "metadata": {},
   "source": [
    "You just wrote your first source code. Now its time to run it. \n",
    "\n",
    "Let's try the way we normally run the things in our computer. By double clicking on the file. \n",
    "\n",
    "What happened?\n",
    "\n",
    "The file simply opened as a text file, or in some cases it will ask for which program to use to open it, and if you use Notepad, again it will open as a text file. That is something you didn't expect. This is kind of anticlimax... Is it?\n",
    "\n",
    "What is the point of a source code, which doesn't run?"
   ]
  },
  {
   "cell_type": "markdown",
   "metadata": {},
   "source": [
    "The reason is simple. The code is not in the language the machine understands, and we have neither \"compiled\" nor \"interpreted\" the source code. You must be more confused, because you have never heard of any of these in computer programming parlance. \n",
    "\n",
    "Let me explain."
   ]
  },
  {
   "cell_type": "markdown",
   "metadata": {},
   "source": [
    "There are three main ways to translate source code into machine code: \n",
    "1. Compile it\n",
    "2. Interpret it\n",
    "3. Combination of both\n",
    "\n",
    "`Compiling` and `Interpreting` a source code is a very complex process, and we will not go into technical details of what goes beneath the hood. But I will certainly give you a fair idea of what these terms mean in simple language. Lets understand this by this analogy. \n",
    "\n",
    "\n"
   ]
  },
  {
   "cell_type": "markdown",
   "metadata": {},
   "source": [
    "### Compiler\n",
    "\n",
    "Compiler converts the source code to the machine code. \n",
    "\n",
    "Lets take this example. \n",
    "\n",
    "You write a letter to your friend back home in English, and that friend understands only Hindi. So, you write the letter in English and use a *translator* software to translate the English letter into Hindi Letter. In similar ways, the compiler *translates* or rather *compiles* the source code from `high level programming language` to `machine language`. \n"
   ]
  },
  {
   "cell_type": "markdown",
   "metadata": {},
   "source": [
    "The above image is oversimplification of a very complex process, which we are not getting too deep into purposefully. That is beyond our scope for this book. If you are curious, you may look up for \"compilers\" online and you will get ample material to quench your thirst. \n"
   ]
  },
  {
   "cell_type": "markdown",
   "metadata": {},
   "source": [
    "### Interpreter\n",
    "\n",
    "In computer programming, an interpreter is a computer program that directly executes instructions written in a programming language, without requiring them previously to have been compiled into a machine language program.\n",
    "\n",
    "Taking forward the earlier analogy, the letter you wrote to your friend in English, who understands only Hindi. Instead of translating the letter to Hindi, you send the English letter to him. He then in turn, calls for an *Interpreter* to come to him, and explain the meaning of the letter to him, line by line. Every time, when wants to re-read the letter, he needs to call the *interpreter* to read the letter for him. \n",
    "\n",
    "This is essentially what computer interpreters do: they process your source code each times its run, line by line, and it's required for the user to have the needed interpreter available on their machine. \n",
    "\n",
    "Some programming languages are known as Compiled languages, like C, C++ and Objective C. Some other programming languages are Interpreted languages, like PHP, Javascript etc. \n",
    "\n",
    "And then there are some programming languages, which use the combination of both. eg. Python, Java, C#.\n",
    "\n"
   ]
  },
  {
   "cell_type": "markdown",
   "metadata": {},
   "source": [
    "#### Comparison between Compiler and Interpreter\n",
    "\n",
    "1) Both compilers and interpreters convert source code (text files) into Machine language. The basic difference is that a compiler system generates a stand alone machine code program, while an interpreter system instead performs the actions described by the high level program.\n",
    "\n",
    "2) Once a program is compiled, its source code is not required for running the code. For interpreted programs, the source code is needed to run the program every time.\n",
    "\n",
    "3) In general, interpreted programs run slower than the compiled programs."
   ]
  },
  {
   "cell_type": "markdown",
   "metadata": {},
   "source": [
    "So, we need additional steps to run our source code in our computers. \n",
    "\n",
    "We are going to use Python language here, and you need not worry about how to use the Compiler or Interpreter. When we install the Python software (or any programming language software), the interpreter is also installed along-with. And it does the magic on its own, which we need not worry about. "
   ]
  },
  {
   "cell_type": "markdown",
   "metadata": {},
   "source": [
    "### What is IDE (Integrated Developement Environment) ?\n",
    "\n",
    "\n",
    "You can write your entire program, as you wrote your first source code, in a text editor. But that is not the most effective or the most elegant way of doing it. \n",
    "\n",
    "There are special softwares for specific tasks. For eg. when we need to work with data and tables and calculation, we use spreadsheet programs (like Microsoft excel), and we use Powerpoint for presentations. We open word processors for creating or opening word documents. Similarly, there are IDE (Integrated Development Environment) for writing computer programs (or codes as they call it). \n",
    "\n",
    "An IDE is an application that provides the special tools needed to write, debug, and compile code. As we are going to work on Python, we will use the IDEs which support Python. There is no dearth of IDEs for Python, and you can use any. But I will recommend to walk with me, and start with the standard softwares, for ease of installation and usage. In all probabilities you may continue with them for life, as they are very capable software packages. \n",
    "\n",
    "The IDE we will use is `Spyder`. We will download and install it a bit later, but I will introduce you to the same so that you will appreciate the efficiency and elegance an IDE brings to code writing (or Computer Programming).\n",
    "\n"
   ]
  },
  {
   "cell_type": "markdown",
   "metadata": {},
   "source": [
    "We will learn about how to use Spyder in detail in coming chapters, but here we will look at it with the perspective, as how iDE is better than a normal text editor.\n",
    "\n",
    "The picture above shows the typical screen of Spyder. The area on left, in the black frame, is the editor pane. This is equivalent to the text editor window. Here we type our program in plain text. \n",
    "\n",
    "Right away you can see a difference between our simple text editor and a more sophisticated IDE. We have line numbers on the left side of our source code editor. This allows us to more quickly reference individual statements in our code. There's also the use of color, known as syntax highlighting, to aid in pointing out important keywords and improve the readability of our code. And finally, notice how you can even preview what your code will look like when compiled and run on a real device. Definitely a great tool to improve your coding process.\n",
    "\n"
   ]
  },
  {
   "cell_type": "markdown",
   "metadata": {},
   "source": [
    "## Summary: \n",
    "\n",
    "We got Introduced to the exciting world of Data science, and we saw, though the nomenclature and technology has changed the entire game, but our ancestors also valued the importance of data analysis. Statistics is the backbone of all data related decision making. Brute computing power has made things possible, which were only theoretical few decades back. \n",
    "\n",
    "We also saw what kind of work a data scientist does, and how is he similar and different, both, from data analysts or data miner or other data related professionals. We also noticed how Python is the one language which commonly features in all data science related fields. \n",
    "\n",
    "We also got introduced to the interesting realm of Computer Programming. Not only introduction, but you wrote your first source code as well. Got simpler understanding of how a code is written, compiled and executed. \n",
    "\n",
    "In next chapter, we will learn more about Python, and also download and install Python softwares and packages, including the Spyder IDE we saw in this chapter. We will also see more of the functional aspects of the IDE and Python. "
   ]
  }
 ],
 "metadata": {
  "kernelspec": {
   "display_name": "Python 3",
   "language": "python",
   "name": "python3"
  },
  "language_info": {
   "codemirror_mode": {
    "name": "ipython",
    "version": 3
   },
   "file_extension": ".py",
   "mimetype": "text/x-python",
   "name": "python",
   "nbconvert_exporter": "python",
   "pygments_lexer": "ipython3",
   "version": "3.7.6"
  },
  "latex_envs": {
   "LaTeX_envs_menu_present": true,
   "autoclose": false,
   "autocomplete": true,
   "bibliofile": "biblio.bib",
   "cite_by": "apalike",
   "current_citInitial": 1,
   "eqLabelWithNumbers": true,
   "eqNumInitial": 1,
   "hotkeys": {
    "equation": "Ctrl-E",
    "itemize": "Ctrl-I"
   },
   "labels_anchors": false,
   "latex_user_defs": false,
   "report_style_numbering": false,
   "user_envs_cfg": false
  },
  "toc": {
   "base_numbering": 1,
   "nav_menu": {},
   "number_sections": true,
   "sideBar": true,
   "skip_h1_title": false,
   "title_cell": "Table of Contents",
   "title_sidebar": "Contents",
   "toc_cell": false,
   "toc_position": {
    "height": "477px",
    "left": "376px",
    "top": "159px",
    "width": "273.188px"
   },
   "toc_section_display": true,
   "toc_window_display": true
  }
 },
 "nbformat": 4,
 "nbformat_minor": 2
}
