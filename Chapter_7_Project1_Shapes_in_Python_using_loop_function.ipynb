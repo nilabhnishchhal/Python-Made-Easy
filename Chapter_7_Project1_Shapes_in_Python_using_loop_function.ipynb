{
 "cells": [
  {
   "cell_type": "markdown",
   "metadata": {},
   "source": [
    "# Patterns using Loops and Functions "
   ]
  },
  {
   "cell_type": "code",
   "execution_count": 1,
   "metadata": {},
   "outputs": [
    {
     "name": "stdout",
     "output_type": "stream",
     "text": [
      "* \n",
      "* * \n",
      "* * * \n",
      "* * * *\n",
      "* * * * * \n",
      "* * * * * * \n"
     ]
    }
   ],
   "source": [
    "print(\"* \")\n",
    "print(\"* * \")\n",
    "print(\"* * * \")\n",
    "print(\"* * * *\")\n",
    "print(\"* * * * * \")\n",
    "print(\"* * * * * * \")\n"
   ]
  },
  {
   "cell_type": "code",
   "execution_count": 2,
   "metadata": {},
   "outputs": [
    {
     "name": "stdout",
     "output_type": "stream",
     "text": [
      "*  \n",
      "*  *  \n",
      "*  *  *  \n",
      "*  *  *  *  \n",
      "*  *  *  *  *  \n",
      "*  *  *  *  *  *  \n"
     ]
    }
   ],
   "source": [
    "row = 6                        # row is the number of rows or size of the pyramid\n",
    "for i in range (0,row):         # This will iterate over the number of rows\n",
    "    for j in range (0, i+1):    # this will iterate over the range 0 to 1+row number in each row\n",
    "        print(\"* \", end=\" \")    # this will print star, same as row number\n",
    "    print(\"\")"
   ]
  },
  {
   "cell_type": "code",
   "execution_count": 3,
   "metadata": {},
   "outputs": [],
   "source": [
    "def pattern_L(n):\n",
    "    for row in range (0 , n):\n",
    "        for stars in range (0, row + 1):\n",
    "            print( \"* \", end= \" \")\n",
    "        print(\"\")\n",
    "        "
   ]
  },
  {
   "cell_type": "code",
   "execution_count": 4,
   "metadata": {},
   "outputs": [
    {
     "name": "stdout",
     "output_type": "stream",
     "text": [
      "*  \n",
      "*  *  \n",
      "*  *  *  \n",
      "*  *  *  *  \n",
      "*  *  *  *  *  \n",
      "*  *  *  *  *  *  \n"
     ]
    }
   ],
   "source": [
    "pattern_L(6)"
   ]
  },
  {
   "cell_type": "code",
   "execution_count": 5,
   "metadata": {},
   "outputs": [
    {
     "name": "stdout",
     "output_type": "stream",
     "text": [
      "          *\n",
      "        * *\n",
      "      * * *\n",
      "    * * * *\n",
      "  * * * * *\n",
      "* * * * * *\n"
     ]
    }
   ],
   "source": [
    "print(\"          *\")\n",
    "print(\"        * *\")\n",
    "print(\"      * * *\")\n",
    "print(\"    * * * *\")\n",
    "print(\"  * * * * *\")\n",
    "print(\"* * * * * *\")"
   ]
  },
  {
   "cell_type": "code",
   "execution_count": 6,
   "metadata": {},
   "outputs": [
    {
     "name": "stdout",
     "output_type": "stream",
     "text": [
      "          * \n",
      "        * * \n",
      "      * * * \n",
      "    * * * * \n",
      "  * * * * * \n",
      "* * * * * * \n"
     ]
    }
   ],
   "source": [
    "row = 6\n",
    "spaces = (row-1)*2                  #spaces in first row to be \n",
    "for i in range(0, row):             # Iterate over the rows, one row at a time\n",
    "    for j in range(0 , spaces):     # Now we are printing the row.\n",
    "        print(\" \", end=\"\")          # Printing spaces first\n",
    "    for j in range(0, i+1):         # we are still printing the same row\n",
    "        print(\"* \", end = \"\")       # Printing the star *\n",
    "    spaces = spaces - 2             # Reducing the number of spaces by 2 for next row\n",
    "    print(\"\")                       # Print one row at a time"
   ]
  },
  {
   "cell_type": "markdown",
   "metadata": {},
   "source": [
    "Lets convert this to a function now. "
   ]
  },
  {
   "cell_type": "code",
   "execution_count": 7,
   "metadata": {},
   "outputs": [],
   "source": [
    "def pattern_L_inverse(n):\n",
    "    spaces = (n-1)*2\n",
    "    for i in range (0, n):\n",
    "        for j in range(0, spaces):\n",
    "            print(\" \", end=\"\")\n",
    "        for j in range(0, i+1):\n",
    "            print(\"* \", end = \"\")\n",
    "        spaces = spaces - 2\n",
    "        print(\"\")"
   ]
  },
  {
   "cell_type": "code",
   "execution_count": 8,
   "metadata": {},
   "outputs": [
    {
     "name": "stdout",
     "output_type": "stream",
     "text": [
      "          * \n",
      "        * * \n",
      "      * * * \n",
      "    * * * * \n",
      "  * * * * * \n",
      "* * * * * * \n"
     ]
    }
   ],
   "source": [
    "pattern_L_inverse(6)"
   ]
  },
  {
   "cell_type": "code",
   "execution_count": 9,
   "metadata": {},
   "outputs": [
    {
     "name": "stdout",
     "output_type": "stream",
     "text": [
      "     * \n",
      "    * * \n",
      "   * * * \n",
      "  * * * * \n",
      " * * * * * \n",
      "* * * * * * \n"
     ]
    }
   ],
   "source": [
    "row = 6\n",
    "spaces = row - 1\n",
    "for i in range(0, row):\n",
    "    for j in range(0, spaces):\n",
    "        print(\" \", end = \"\")\n",
    "    for j in range(0, i+1):\n",
    "        print(\"* \", end = \"\")\n",
    "    spaces = spaces - 1\n",
    "    print(\"\")"
   ]
  },
  {
   "cell_type": "code",
   "execution_count": 10,
   "metadata": {},
   "outputs": [],
   "source": [
    "def pattern_pyramid(n):\n",
    "    spaces = n - 1\n",
    "    for row in range(0, n):\n",
    "        for space in range(0, spaces):\n",
    "            print(\" \", end = \"\")\n",
    "        for star in range(0, row + 1):\n",
    "            print(\"* \", end=\"\")\n",
    "        spaces = spaces - 1\n",
    "        print(\"\")"
   ]
  },
  {
   "cell_type": "code",
   "execution_count": 11,
   "metadata": {},
   "outputs": [
    {
     "name": "stdout",
     "output_type": "stream",
     "text": [
      "     * \n",
      "    * * \n",
      "   * * * \n",
      "  * * * * \n",
      " * * * * * \n",
      "* * * * * * \n"
     ]
    }
   ],
   "source": [
    "pattern_pyramid(6)"
   ]
  },
  {
   "cell_type": "code",
   "execution_count": 12,
   "metadata": {},
   "outputs": [
    {
     "name": "stdout",
     "output_type": "stream",
     "text": [
      "* * * * * * \n",
      "* * * * * \n",
      "* * * * \n",
      "* * * \n",
      "* * \n",
      "* \n"
     ]
    }
   ],
   "source": [
    "row = 6\n",
    "for i in range(row , 0, -1): # The order of range is reversed, for next loop\n",
    "    for j in range(0, i):    # Here i needs to go from 6 to 1, hence prio loop range reversed\n",
    "        print(\"* \", end=\"\")\n",
    "    print(\"\")"
   ]
  },
  {
   "cell_type": "code",
   "execution_count": 13,
   "metadata": {},
   "outputs": [
    {
     "name": "stdout",
     "output_type": "stream",
     "text": [
      "\n",
      "* \n",
      "* * \n",
      "* * * \n",
      "* * * * \n",
      "* * * * * \n",
      "* * * * * * \n",
      "* * * * * \n",
      "* * * * \n",
      "* * * \n",
      "* * \n",
      "* \n"
     ]
    }
   ],
   "source": [
    "row = 11\n",
    "peak = row//2 + 1\n",
    "for i in range(0, peak):\n",
    "    for j in range (0, i):\n",
    "        print(\"* \", end=\"\")\n",
    "    print(\"\")\n",
    "for i in range(peak, 0, -1):\n",
    "    for j in range (0, i):\n",
    "        print(\"* \", end=\"\")\n",
    "    print(\"\")"
   ]
  },
  {
   "cell_type": "code",
   "execution_count": 14,
   "metadata": {},
   "outputs": [
    {
     "name": "stdout",
     "output_type": "stream",
     "text": [
      "\n",
      "1 \n",
      "2 2 \n",
      "3 3 3 \n",
      "4 4 4 4 \n",
      "5 5 5 5 5 \n",
      "6 6 6 6 6 6 \n"
     ]
    }
   ],
   "source": [
    "row = 6\n",
    "for i in range(0, row + 1):\n",
    "    for j in range (0, i):\n",
    "        print(i, end=\" \")        #prints numbers row wise\n",
    "    print(\"\")\n",
    "    "
   ]
  },
  {
   "cell_type": "code",
   "execution_count": 15,
   "metadata": {},
   "outputs": [],
   "source": [
    "def numpattern1(n):\n",
    "    for i in range(0, n + 1):\n",
    "        for j in range (0, i):\n",
    "            print(i, end=\" \")\n",
    "        print(\"\")"
   ]
  },
  {
   "cell_type": "code",
   "execution_count": 16,
   "metadata": {},
   "outputs": [
    {
     "name": "stdout",
     "output_type": "stream",
     "text": [
      "\n",
      "1 \n",
      "2 2 \n",
      "3 3 3 \n",
      "4 4 4 4 \n",
      "5 5 5 5 5 \n",
      "6 6 6 6 6 6 \n"
     ]
    }
   ],
   "source": [
    "numpattern1(6)"
   ]
  },
  {
   "cell_type": "code",
   "execution_count": 17,
   "metadata": {},
   "outputs": [
    {
     "name": "stdout",
     "output_type": "stream",
     "text": [
      "\n",
      "1 \n",
      "1 2 \n",
      "1 2 3 \n",
      "1 2 3 4 \n",
      "1 2 3 4 5 \n",
      "1 2 3 4 5 6 \n"
     ]
    }
   ],
   "source": [
    "row = 6\n",
    "for i in range(0, row + 1):\n",
    "    for j in range(1, i + 1):\n",
    "        print(j, end =\" \")\n",
    "    print(\"\")"
   ]
  },
  {
   "cell_type": "code",
   "execution_count": 18,
   "metadata": {},
   "outputs": [],
   "source": [
    "def numpattern2(n):\n",
    "    for i in range(0, row + 1):\n",
    "        for j in range(1, i + 1):\n",
    "            print(j, end =\" \")\n",
    "        print(\"\")\n",
    "    "
   ]
  },
  {
   "cell_type": "code",
   "execution_count": 19,
   "metadata": {},
   "outputs": [
    {
     "name": "stdout",
     "output_type": "stream",
     "text": [
      "\n",
      "1 \n",
      "1 2 \n",
      "1 2 3 \n",
      "1 2 3 4 \n",
      "1 2 3 4 5 \n",
      "1 2 3 4 5 6 \n"
     ]
    }
   ],
   "source": [
    "numpattern2(6)"
   ]
  },
  {
   "cell_type": "code",
   "execution_count": 20,
   "metadata": {},
   "outputs": [
    {
     "name": "stdout",
     "output_type": "stream",
     "text": [
      "1 1 1 1 1 1 \n",
      "2 2 2 2 2 \n",
      "3 3 3 3 \n",
      "4 4 4 \n",
      "5 5 \n",
      "6 \n"
     ]
    }
   ],
   "source": [
    "row = 6\n",
    "num = 1\n",
    "for i in range(row, 0, -1):\n",
    "    for j in range(0, i):\n",
    "        print(num, end=\" \")\n",
    "    num = num + 1\n",
    "    print(\"\")"
   ]
  },
  {
   "cell_type": "code",
   "execution_count": 21,
   "metadata": {},
   "outputs": [],
   "source": [
    "def numpattern3(n):\n",
    "    num = 1\n",
    "    for i in range(n, 0, -1):\n",
    "        for j in range(0, i):\n",
    "            print(num, end = \" \")\n",
    "        num = num + 1\n",
    "        print(\"\")\n",
    "        "
   ]
  },
  {
   "cell_type": "code",
   "execution_count": 22,
   "metadata": {},
   "outputs": [
    {
     "name": "stdout",
     "output_type": "stream",
     "text": [
      "1 1 1 1 1 1 \n",
      "2 2 2 2 2 \n",
      "3 3 3 3 \n",
      "4 4 4 \n",
      "5 5 \n",
      "6 \n"
     ]
    }
   ],
   "source": [
    "numpattern3(6)"
   ]
  },
  {
   "cell_type": "code",
   "execution_count": 23,
   "metadata": {},
   "outputs": [
    {
     "name": "stdout",
     "output_type": "stream",
     "text": [
      "\n",
      "1 \n",
      "2 1 \n",
      "3 2 1 \n",
      "4 3 2 1 \n",
      "5 4 3 2 1 \n",
      "6 5 4 3 2 1 \n"
     ]
    }
   ],
   "source": [
    "row = 6\n",
    "for i in range(0, row + 1):\n",
    "    for j in range(i, 0, -1):\n",
    "         print(j, end=\" \")\n",
    "    print(\"\")"
   ]
  },
  {
   "cell_type": "code",
   "execution_count": 24,
   "metadata": {},
   "outputs": [
    {
     "name": "stdout",
     "output_type": "stream",
     "text": [
      "\n",
      "1 \n",
      "4 1 \n",
      "9 4 1 \n",
      "16 9 4 1 \n",
      "25 16 9 4 1 \n",
      "36 25 16 9 4 1 \n"
     ]
    }
   ],
   "source": [
    "row = 6\n",
    "for ROW in range(0, row + 1):\n",
    "    for COLUMN in range(ROW, 0, -1):\n",
    "         print(COLUMN**2, end=\" \")\n",
    "    print(\"\")"
   ]
  },
  {
   "cell_type": "code",
   "execution_count": 25,
   "metadata": {},
   "outputs": [
    {
     "name": "stdout",
     "output_type": "stream",
     "text": [
      "     1 \n",
      "    2 2 \n",
      "   3 3 3 \n",
      "  4 4 4 4 \n",
      " 5 5 5 5 5 \n",
      "6 6 6 6 6 6 \n",
      " 5 5 5 5 5 \n",
      "  4 4 4 4 \n",
      "   3 3 3 \n",
      "    2 2 \n",
      "     1 \n"
     ]
    }
   ],
   "source": [
    "row = 6\n",
    "spaces = row - 1\n",
    "b = 1\n",
    "for i in range(1,row + 1):\n",
    "    for j in range(0, spaces):\n",
    "        print(\" \", end=\"\")\n",
    "    for j in range(0, b):\n",
    "        print(i, end=\" \")\n",
    "    spaces = spaces - 1\n",
    "    b = b + 1\n",
    "    print(\"\")\n",
    "\n",
    "row = 6\n",
    "spaces = 1\n",
    "b = row - 1\n",
    "for i in range(row-1, 0, -1):\n",
    "    for j in range(0, spaces):\n",
    "        print(\" \", end=\"\")\n",
    "    for j in range(0, b):\n",
    "        print(i, end = \" \")\n",
    "    spaces = spaces + 1\n",
    "    b = b -1\n",
    "    print(\"\")"
   ]
  },
  {
   "cell_type": "code",
   "execution_count": 26,
   "metadata": {},
   "outputs": [],
   "source": [
    "def numpattern6(n):\n",
    "    spaces = n - 1\n",
    "    num_count = 1\n",
    "    for row in range(1, n + 1):\n",
    "        for i in range(0, spaces):\n",
    "            print(\" \", end= \"\")\n",
    "        for num in range(0, num_count):\n",
    "            print(row, end= \" \")\n",
    "        print(\"\")\n",
    "        spaces = spaces - 1\n",
    "        num_count = num_count + 1\n",
    "    \n",
    "    spaces = 1\n",
    "    num_count = n - 1\n",
    "    for row in range(n - 1, 0, -1):\n",
    "        for i in range(0, spaces):\n",
    "            print(\" \", end = \"\")\n",
    "        for num in range(0, num_count):\n",
    "            print(row, end= \" \")\n",
    "        spaces = spaces + 1\n",
    "        num_count = num_count - 1\n",
    "        print(\"\")"
   ]
  },
  {
   "cell_type": "code",
   "execution_count": 27,
   "metadata": {},
   "outputs": [
    {
     "name": "stdout",
     "output_type": "stream",
     "text": [
      "     1 \n",
      "    2 2 \n",
      "   3 3 3 \n",
      "  4 4 4 4 \n",
      " 5 5 5 5 5 \n",
      "6 6 6 6 6 6 \n",
      " 5 5 5 5 5 \n",
      "  4 4 4 4 \n",
      "   3 3 3 \n",
      "    2 2 \n",
      "     1 \n"
     ]
    }
   ],
   "source": [
    "numpattern6(6)"
   ]
  },
  {
   "cell_type": "code",
   "execution_count": 28,
   "metadata": {},
   "outputs": [
    {
     "name": "stdout",
     "output_type": "stream",
     "text": [
      "      \n",
      "     1 \n",
      "    1 2 \n",
      "   1 2 3 \n",
      "  1 2 3 4 \n",
      " 1 2 3 4 5 \n",
      "1 2 3 4 5 6 \n",
      " 1 2 3 4 5 \n",
      "  1 2 3 4 \n",
      "   1 2 3 \n",
      "    1 2 \n",
      "     1 \n",
      "      \n"
     ]
    }
   ],
   "source": [
    "row = 6\n",
    "spaces = row\n",
    "num_count = 1\n",
    "for row in range(0, row + 1):\n",
    "    for i in range(0, spaces):\n",
    "        print(\" \", end= \"\")\n",
    "    for num in range(1, num_count):\n",
    "        print(num, end= \" \")\n",
    "    print(\"\")\n",
    "    spaces = spaces - 1\n",
    "    num_count = num_count + 1\n",
    "    \n",
    "spaces = 1\n",
    "num_count = row\n",
    "for row in range(row, 0, -1):\n",
    "    for i in range(0, spaces):\n",
    "        print(\" \", end = \"\")\n",
    "    for num in range(1, num_count):\n",
    "        print(num, end= \" \")\n",
    "    spaces = spaces + 1\n",
    "    num_count = num_count - 1\n",
    "    print(\"\")"
   ]
  },
  {
   "cell_type": "code",
   "execution_count": 29,
   "metadata": {},
   "outputs": [],
   "source": [
    "def numpattern7(n):\n",
    "    spaces = n\n",
    "    num_count = 1\n",
    "    for row in range(0, n + 1):\n",
    "        for i in range(0, spaces):\n",
    "            print(\" \", end= \"\")\n",
    "        for num in range(1, num_count):\n",
    "            print(num, end= \" \")\n",
    "        print(\"\")\n",
    "        spaces = spaces - 1\n",
    "        num_count = num_count + 1\n",
    "    \n",
    "    spaces = 1\n",
    "    num_count = n\n",
    "    for row in range(n, 0, -1):\n",
    "        for i in range(0, spaces):\n",
    "            print(\" \", end = \"\")\n",
    "        for num in range(1, num_count):\n",
    "            print(num, end= \" \")\n",
    "        spaces = spaces + 1\n",
    "        num_count = num_count - 1\n",
    "        print(\"\")"
   ]
  },
  {
   "cell_type": "code",
   "execution_count": 30,
   "metadata": {},
   "outputs": [
    {
     "name": "stdout",
     "output_type": "stream",
     "text": [
      "      \n",
      "     1 \n",
      "    1 2 \n",
      "   1 2 3 \n",
      "  1 2 3 4 \n",
      " 1 2 3 4 5 \n",
      "1 2 3 4 5 6 \n",
      " 1 2 3 4 5 \n",
      "  1 2 3 4 \n",
      "   1 2 3 \n",
      "    1 2 \n",
      "     1 \n",
      "      \n"
     ]
    }
   ],
   "source": [
    "numpattern7(6)"
   ]
  },
  {
   "cell_type": "code",
   "execution_count": 31,
   "metadata": {},
   "outputs": [
    {
     "name": "stdout",
     "output_type": "stream",
     "text": [
      "     0\n",
      "    01\n",
      "   012\n",
      "  0123\n",
      " 01234\n",
      "012345\n",
      " 01234\n",
      "  0123\n",
      "   012\n",
      "    01\n",
      "     0\n",
      "      \n"
     ]
    }
   ],
   "source": [
    "row = 6\n",
    "spaces = row-1\n",
    "num_count = 1\n",
    "for i in range(0, row):\n",
    "    for j in range(0, spaces):\n",
    "        print(\" \", end= \"\")\n",
    "    for num in range(0, num_count):\n",
    "        print(num, end= \"\")\n",
    "    print(\"\")\n",
    "    spaces = spaces - 1\n",
    "    num_count = num_count + 1\n",
    "    \n",
    "spaces = 1\n",
    "num_count = row -1\n",
    "for i in range(row, 0, -1):\n",
    "    for j in range(0, spaces):\n",
    "        print(\" \", end = \"\")\n",
    "    for num in range(0, num_count):\n",
    "        print(num, end= \"\")\n",
    "    spaces = spaces + 1\n",
    "    num_count = num_count - 1\n",
    "    print(\"\")"
   ]
  }
 ],
 "metadata": {
  "kernelspec": {
   "display_name": "Python 3",
   "language": "python",
   "name": "python3"
  },
  "language_info": {
   "codemirror_mode": {
    "name": "ipython",
    "version": 3
   },
   "file_extension": ".py",
   "mimetype": "text/x-python",
   "name": "python",
   "nbconvert_exporter": "python",
   "pygments_lexer": "ipython3",
   "version": "3.7.6"
  },
  "latex_envs": {
   "LaTeX_envs_menu_present": true,
   "autoclose": false,
   "autocomplete": true,
   "bibliofile": "biblio.bib",
   "cite_by": "apalike",
   "current_citInitial": 1,
   "eqLabelWithNumbers": true,
   "eqNumInitial": 1,
   "hotkeys": {
    "equation": "Ctrl-E",
    "itemize": "Ctrl-I"
   },
   "labels_anchors": false,
   "latex_user_defs": false,
   "report_style_numbering": false,
   "user_envs_cfg": false
  },
  "toc": {
   "base_numbering": "7",
   "nav_menu": {},
   "number_sections": true,
   "sideBar": true,
   "skip_h1_title": false,
   "title_cell": "Table of Contents",
   "title_sidebar": "Contents",
   "toc_cell": false,
   "toc_position": {},
   "toc_section_display": true,
   "toc_window_display": true
  }
 },
 "nbformat": 4,
 "nbformat_minor": 2
}
