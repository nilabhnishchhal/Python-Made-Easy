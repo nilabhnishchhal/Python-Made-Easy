{
 "cells": [
  {
   "cell_type": "markdown",
   "metadata": {},
   "source": [
    "# Project - Automating the task of Multiple Image Processing"
   ]
  },
  {
   "cell_type": "code",
   "execution_count": 1,
   "metadata": {},
   "outputs": [],
   "source": [
    "from PIL import Image\n",
    "import os"
   ]
  },
  {
   "cell_type": "code",
   "execution_count": 2,
   "metadata": {},
   "outputs": [
    {
     "data": {
      "text/plain": [
       "'C:\\\\Users\\\\nilabhnishchhal\\\\PYTHON_BOOK_NILABH\\\\Project2_Automating_Multiple_Photo_processing'"
      ]
     },
     "execution_count": 2,
     "metadata": {},
     "output_type": "execute_result"
    }
   ],
   "source": [
    "os.getcwd()"
   ]
  },
  {
   "cell_type": "code",
   "execution_count": 3,
   "metadata": {},
   "outputs": [],
   "source": [
    "image1 = Image.open(\"pic1.jpg\")"
   ]
  },
  {
   "cell_type": "markdown",
   "metadata": {},
   "source": [
    "If you want to open the image file outside the jupyter notebook, use the `.show()` method. \n",
    "```python\n",
    "image1.show()\n",
    "```"
   ]
  },
  {
   "cell_type": "code",
   "execution_count": 4,
   "metadata": {},
   "outputs": [],
   "source": [
    "image1.save(\"pic1.png\")"
   ]
  },
  {
   "cell_type": "code",
   "execution_count": 5,
   "metadata": {},
   "outputs": [
    {
     "data": {
      "text/plain": [
       "['.ipynb_checkpoints',\n",
       " 'b&w',\n",
       " 'Chapter_10_Project2_Automating_task_of_Multiple_image_processing.ipynb',\n",
       " 'dpi_300',\n",
       " 'image2.jpg',\n",
       " 'image3.jpg',\n",
       " 'Images_chapter1',\n",
       " 'NewExtnsn',\n",
       " 'pic1.jpg',\n",
       " 'pic1.png',\n",
       " 'pic1300.jpg',\n",
       " 'pic2.jpg',\n",
       " 'pic3.jpg',\n",
       " 'pic4.jpg',\n",
       " 'pic5.jpg',\n",
       " 'Project2_Automating_task_of_Multiple_image_processing.docx',\n",
       " 'Project2_Automating_task_of_Multiple_image_processing.ipynb',\n",
       " 'resize',\n",
       " 'rotate']"
      ]
     },
     "execution_count": 5,
     "metadata": {},
     "output_type": "execute_result"
    }
   ],
   "source": [
    "# lists all the files and folders in the curent working directory\n",
    "\n",
    "os.listdir()"
   ]
  },
  {
   "cell_type": "code",
   "execution_count": 6,
   "metadata": {},
   "outputs": [
    {
     "name": "stdout",
     "output_type": "stream",
     "text": [
      "image2.jpg\n",
      "image3.jpg\n",
      "pic1.jpg\n",
      "pic1300.jpg\n",
      "pic2.jpg\n",
      "pic3.jpg\n",
      "pic4.jpg\n",
      "pic5.jpg\n"
     ]
    }
   ],
   "source": [
    "#Looping over the image files\n",
    "for f in os.listdir(\".\"):\n",
    "    if f.endswith(\".jpg\"):\n",
    "        print(f)"
   ]
  },
  {
   "cell_type": "code",
   "execution_count": 7,
   "metadata": {},
   "outputs": [
    {
     "name": "stdout",
     "output_type": "stream",
     "text": [
      "image2 & .jpg\n",
      "image3 & .jpg\n",
      "pic1 & .jpg\n",
      "pic1300 & .jpg\n",
      "pic2 & .jpg\n",
      "pic3 & .jpg\n",
      "pic4 & .jpg\n",
      "pic5 & .jpg\n"
     ]
    }
   ],
   "source": [
    "for f in os.listdir(\".\"):\n",
    "    if f.endswith(\".jpg\"):\n",
    "        i = Image.open(f)\n",
    "        fn, fext = os.path.splitext(f)\n",
    "        print(fn, \"&\", fext)"
   ]
  },
  {
   "cell_type": "code",
   "execution_count": 8,
   "metadata": {},
   "outputs": [],
   "source": [
    "for f in os.listdir(\".\"):\n",
    "    if f.endswith(\".jpg\"):\n",
    "        i = Image.open(f)\n",
    "        fn, fext = os.path.splitext(f)\n",
    "        i.save(\"NewExtnsn/{}.pdf\".format(fn))"
   ]
  },
  {
   "cell_type": "code",
   "execution_count": 9,
   "metadata": {},
   "outputs": [],
   "source": [
    "size_small = (600,600)\n",
    "size_tiny = (200,200)\n",
    "\n",
    "for f in os.listdir(\".\"):\n",
    "    if f.endswith(\".jpg\"):\n",
    "        i = Image.open(f)\n",
    "        fn, fext = os.path.splitext(f)\n",
    "        \n",
    "        i.thumbnail(size_small)\n",
    "        i.save(\"resize/small/{}_small.{}\".format(fn, fext))\n",
    "        \n",
    "        i.thumbnail(size_tiny)\n",
    "        i.save(\"resize/tiny/{}_tiny.{}\".format(fn, fext))"
   ]
  },
  {
   "cell_type": "code",
   "execution_count": 10,
   "metadata": {},
   "outputs": [],
   "source": [
    "image1.convert(mode='L').save(\"image2.jpg\")\n",
    "\n",
    "Image2 = Image.open(\"image2.jpg\")\n"
   ]
  },
  {
   "cell_type": "code",
   "execution_count": 11,
   "metadata": {},
   "outputs": [],
   "source": [
    "for f in os.listdir(\".\"):\n",
    "    if f.endswith(\".jpg\"):\n",
    "        i = Image.open(f)\n",
    "        fn, fext = os.path.splitext(f)\n",
    "        \n",
    "        im = i.convert(mode = 'L')\n",
    "        im.save(\"b&w/{}_bw.{}\".format(fn, fext))"
   ]
  },
  {
   "cell_type": "code",
   "execution_count": 12,
   "metadata": {},
   "outputs": [],
   "source": [
    "#rotating the image to 55 Degree angle\n",
    "image1.rotate(55).save(\"image3.jpg\")\n",
    "\n",
    "Image3 = Image.open(\"image3.jpg\")\n"
   ]
  },
  {
   "cell_type": "code",
   "execution_count": 13,
   "metadata": {},
   "outputs": [],
   "source": [
    "for f in os.listdir(\".\"):\n",
    "    if f.endswith(\".jpg\"):\n",
    "        i = Image.open(f)\n",
    "        fn, fext = os.path.splitext(f)\n",
    "        \n",
    "        im = i.rotate(90)\n",
    "        im.save(\"rotate/{}_rot.{}\".format(fn, fext))"
   ]
  },
  {
   "cell_type": "code",
   "execution_count": 14,
   "metadata": {},
   "outputs": [],
   "source": [
    "for f in os.listdir(\".\"):\n",
    "    if f.endswith(\".jpg\"):\n",
    "        i = Image.open(f)\n",
    "        fn, fext = os.path.splitext(f)\n",
    "        i.save(\"dpi_300/{}_dpi_300.{}\".format(fn, fext), dpi = (300,300) )\n"
   ]
  }
 ],
 "metadata": {
  "kernelspec": {
   "display_name": "Python 3",
   "language": "python",
   "name": "python3"
  },
  "language_info": {
   "codemirror_mode": {
    "name": "ipython",
    "version": 3
   },
   "file_extension": ".py",
   "mimetype": "text/x-python",
   "name": "python",
   "nbconvert_exporter": "python",
   "pygments_lexer": "ipython3",
   "version": "3.7.6"
  },
  "toc": {
   "base_numbering": "10",
   "nav_menu": {},
   "number_sections": true,
   "sideBar": true,
   "skip_h1_title": false,
   "title_cell": "Table of Contents",
   "title_sidebar": "Contents",
   "toc_cell": false,
   "toc_position": {},
   "toc_section_display": true,
   "toc_window_display": true
  }
 },
 "nbformat": 4,
 "nbformat_minor": 4
}
