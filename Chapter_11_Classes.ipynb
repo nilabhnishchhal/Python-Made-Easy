{
 "cells": [
  {
   "cell_type": "markdown",
   "metadata": {},
   "source": [
    "# CHAPTER 9 - Classes"
   ]
  },
  {
   "cell_type": "code",
   "execution_count": 1,
   "metadata": {},
   "outputs": [],
   "source": [
    "class Employee:\n",
    "    pass"
   ]
  },
  {
   "cell_type": "code",
   "execution_count": 2,
   "metadata": {},
   "outputs": [],
   "source": [
    "class Employee:\n",
    "\n",
    "    # class attribute (which is common for all the instances in the class)\n",
    "    company = \"Python Enterprises\"\n",
    "\n",
    "    # instance attribute\n",
    "    def __init__(self, name, age, dept):\n",
    "        self.name = name\n",
    "        self.age = age\n",
    "        self.department = dept\n"
   ]
  },
  {
   "cell_type": "code",
   "execution_count": 3,
   "metadata": {},
   "outputs": [],
   "source": [
    "# instantiate the Employee class\n",
    "nilabh = Employee(\"nilabh\", 22, \"production\")\n",
    "sandip = Employee(\"sandip\", 28, \"marketing\")"
   ]
  },
  {
   "cell_type": "code",
   "execution_count": 4,
   "metadata": {},
   "outputs": [
    {
     "name": "stdout",
     "output_type": "stream",
     "text": [
      "nilabh and sandip are two employees of Python Enterprises company\n",
      "nilabh is 22 and works in production department of Python Enterprises.\n",
      "sandip is 28 and works in marketing department of Python Enterprises.\n"
     ]
    }
   ],
   "source": [
    "class Employee:\n",
    "\n",
    "    # class attribute (which is common for all the instances in the class)\n",
    "    company = \"Python Enterprises\"\n",
    "\n",
    "    # instance attribute\n",
    "    def __init__(self, name, age, dept):\n",
    "        self.name = name\n",
    "        self.age = age\n",
    "        self.department = dept\n",
    "        \n",
    "# instantiate the Employee class\n",
    "nilabh = Employee(\"nilabh\", 22, \"production\")\n",
    "sandip = Employee(\"sandip\", 28, \"marketing\")\n",
    "\n",
    "# Accesing the instance attributes\n",
    "\n",
    "print(\"{} and {} are two employees of {} company\".format(nilabh.name, sandip.name, Employee.company))\n",
    "\n",
    "print(\"{} is {} and works in {} department of {}.\".format(nilabh.name, nilabh.age, nilabh.department, nilabh.company))\n",
    "\n",
    "print(\"{} is {} and works in {} department of {}.\".format(sandip.name, sandip.age, sandip.department, sandip.company))"
   ]
  },
  {
   "cell_type": "code",
   "execution_count": 5,
   "metadata": {},
   "outputs": [
    {
     "name": "stdout",
     "output_type": "stream",
     "text": [
      "<__main__.Employee object at 0x000001E183BC8208>\n"
     ]
    }
   ],
   "source": [
    "print(nilabh)"
   ]
  },
  {
   "cell_type": "code",
   "execution_count": 6,
   "metadata": {},
   "outputs": [],
   "source": [
    "class Employee:\n",
    "\n",
    "    # class attribute (which is common for all the instances in the class)\n",
    "    company = \"Python Enterprises\"\n",
    "\n",
    "    # instance attribute\n",
    "    def __init__(self, name, age, dept):\n",
    "        self.name = name\n",
    "        self.age = age\n",
    "        self.dept = dept\n",
    "    def __str__(self):\n",
    "        return \"My name is {}, my age is {} and I work in {} department of {}\".format(self.name, self.age, \n",
    "                                                                                      self.dept, self.company)\n",
    "        \n",
    "# instantiate the Employee class\n",
    "nilabh = Employee(\"nilabh\", 22, \"production\")\n",
    "sandip = Employee(\"sandip\", 28, \"marketing\")"
   ]
  },
  {
   "cell_type": "code",
   "execution_count": 7,
   "metadata": {},
   "outputs": [
    {
     "name": "stdout",
     "output_type": "stream",
     "text": [
      "My name is nilabh, my age is 22 and I work in production department of Python Enterprises\n"
     ]
    }
   ],
   "source": [
    "print(nilabh)"
   ]
  },
  {
   "cell_type": "code",
   "execution_count": 8,
   "metadata": {},
   "outputs": [
    {
     "name": "stdout",
     "output_type": "stream",
     "text": [
      "nilabh was born in 1998.\n"
     ]
    }
   ],
   "source": [
    "class Employee:\n",
    "\n",
    "    # class attribute (which is common for all the instances in the class)\n",
    "    company = \"Python Enterprises\"\n",
    "\n",
    "    # instance attribute\n",
    "    def __init__(self, name, age, dept):\n",
    "        self.name = name\n",
    "        self.age = age\n",
    "        self.department = dept\n",
    "        \n",
    "    #creating method object\n",
    "    def YOB(self, current_year):\n",
    "        return current_year - self.age\n",
    "        \n",
    "# instantiate the Employee class\n",
    "nilabh = Employee(\"nilabh\", 22, \"production\")\n",
    "sandip = Employee(\"sandip\", 28, \"marketing\")\n",
    "\n",
    "\n",
    "print(\"nilabh was born in {}.\".format(nilabh.YOB(2020)))\n",
    "\n",
    "\n"
   ]
  },
  {
   "cell_type": "code",
   "execution_count": 9,
   "metadata": {},
   "outputs": [],
   "source": [
    "class Person: \n",
    "    def __init__(self, name): \n",
    "        self.name = name \n",
    "\n",
    "\n",
    "# Inherited or child class (Note Person in bracket) \n",
    "\n",
    "# super() function used to inherit the parent class\n",
    "\n",
    "class Employee(Person):\n",
    "    def __init__(self, employee_id, name):\n",
    "        super().__init__(name)\n",
    "        self.employee_id = employee_id\n",
    "\n",
    "     "
   ]
  },
  {
   "cell_type": "code",
   "execution_count": 10,
   "metadata": {},
   "outputs": [
    {
     "name": "stdout",
     "output_type": "stream",
     "text": [
      "<__main__.Employee object at 0x000001E183BC0908>\n"
     ]
    }
   ],
   "source": [
    "employee = Employee(52, \"pratik\")\n",
    "print(employee)"
   ]
  },
  {
   "cell_type": "code",
   "execution_count": 11,
   "metadata": {},
   "outputs": [
    {
     "name": "stdout",
     "output_type": "stream",
     "text": [
      "Base1\n",
      "Base2\n",
      "Derived\n",
      "Person1 Person2\n"
     ]
    }
   ],
   "source": [
    "# Python example to show working of multiple inheritance \n",
    "\n",
    "class Base1: \n",
    "    def __init__(self): \n",
    "        self.str1 = \"Person1\"\n",
    "        print(\"Base1\") \n",
    "  \n",
    "class Base2: \n",
    "    def __init__(self): \n",
    "        self.str2 = \"Person2\"        \n",
    "        print(\"Base2\") \n",
    "  \n",
    "class Derived(Base1, Base2): \n",
    "    def __init__(self):\n",
    "        Base1.__init__(self) # Calling constructors of Base1\n",
    "        Base2.__init__(self)  # and Base2 classes \n",
    "        print(\"Derived\")\n",
    "    def printStrs(self): \n",
    "        print(self.str1, self.str2)\n",
    "        \n",
    "# creating a new object of Derived class\n",
    "# this will print the class names as defined in the classes\n",
    "\n",
    "person = Derived() \n",
    "\n",
    "# method printStrs on the Derived class object person will give Base class names\n",
    "# Person1 Person 2\n",
    "\n",
    "person.printStrs() \n",
    "          \n",
    "\n",
    "         \n",
    "  \n"
   ]
  },
  {
   "cell_type": "code",
   "execution_count": 12,
   "metadata": {},
   "outputs": [],
   "source": [
    "class Person:\n",
    "    def __init__(self, name, surname, year_of_birth):\n",
    "        self.name = name\n",
    "        self.surname = surname\n",
    "        self.year_of_birth = year_of_birth\n",
    "    def age(self, current_year):\n",
    "        return current_year - self.year_of_birth\n",
    "    \n",
    "    def __str__(self):\n",
    "        return \"{} {} was born in year {}\".format(self.name, self.surname, self.year_of_birth)"
   ]
  },
  {
   "cell_type": "code",
   "execution_count": 13,
   "metadata": {},
   "outputs": [
    {
     "name": "stdout",
     "output_type": "stream",
     "text": [
      "nilabh nishchhal was born in year 1998\n"
     ]
    }
   ],
   "source": [
    "nilabh = Person(\"nilabh\", \"nishchhal\", 1998)\n",
    "print(nilabh)"
   ]
  },
  {
   "cell_type": "code",
   "execution_count": 14,
   "metadata": {},
   "outputs": [
    {
     "name": "stdout",
     "output_type": "stream",
     "text": [
      "Siddharth Tiwari was born in year 1985\n"
     ]
    }
   ],
   "source": [
    "# Inheritance \n",
    "\n",
    "class Student(Person):\n",
    "    def __init__(self, student_id,name, surname, year_of_birth):\n",
    "        super().__init__(name, surname, year_of_birth)\n",
    "        self.student_id = student_id\n",
    "\n",
    "\n",
    "siddharth = Student(1, 'Siddharth', 'Tiwari', 1985)\n",
    "\n",
    "print(siddharth)\n"
   ]
  },
  {
   "cell_type": "code",
   "execution_count": 15,
   "metadata": {},
   "outputs": [
    {
     "name": "stdout",
     "output_type": "stream",
     "text": [
      "Siddharth Tiwari student id 1 was born in year 1985\n"
     ]
    }
   ],
   "source": [
    "class Student(Person):\n",
    "    def __init__(self, student_id,name, surname, year_of_birth):\n",
    "        super().__init__(name, surname, year_of_birth)\n",
    "        self.student_id = student_id\n",
    "    def __str__(self):\n",
    "        return \"{} {} student id {} was born in year {}\".format(self.name, \n",
    "                                            self.surname,self.student_id, self.year_of_birth)\n",
    "\n",
    "\n",
    "siddharth = Student(1, 'Siddharth', 'Tiwari', 1985)\n",
    "\n",
    "print(siddharth)\n"
   ]
  },
  {
   "cell_type": "code",
   "execution_count": 16,
   "metadata": {},
   "outputs": [
    {
     "name": "stdout",
     "output_type": "stream",
     "text": [
      "Help on Student in module __main__ object:\n",
      "\n",
      "class Student(Person)\n",
      " |  Student(student_id, name, surname, year_of_birth)\n",
      " |  \n",
      " |  Method resolution order:\n",
      " |      Student\n",
      " |      Person\n",
      " |      builtins.object\n",
      " |  \n",
      " |  Methods defined here:\n",
      " |  \n",
      " |  __init__(self, student_id, name, surname, year_of_birth)\n",
      " |      Initialize self.  See help(type(self)) for accurate signature.\n",
      " |  \n",
      " |  __str__(self)\n",
      " |      Return str(self).\n",
      " |  \n",
      " |  ----------------------------------------------------------------------\n",
      " |  Methods inherited from Person:\n",
      " |  \n",
      " |  age(self, current_year)\n",
      " |  \n",
      " |  ----------------------------------------------------------------------\n",
      " |  Data descriptors inherited from Person:\n",
      " |  \n",
      " |  __dict__\n",
      " |      dictionary for instance variables (if defined)\n",
      " |  \n",
      " |  __weakref__\n",
      " |      list of weak references to the object (if defined)\n",
      "\n"
     ]
    }
   ],
   "source": [
    "help(siddharth)"
   ]
  }
 ],
 "metadata": {
  "kernelspec": {
   "display_name": "Python 3",
   "language": "python",
   "name": "python3"
  },
  "language_info": {
   "codemirror_mode": {
    "name": "ipython",
    "version": 3
   },
   "file_extension": ".py",
   "mimetype": "text/x-python",
   "name": "python",
   "nbconvert_exporter": "python",
   "pygments_lexer": "ipython3",
   "version": "3.7.6"
  },
  "latex_envs": {
   "LaTeX_envs_menu_present": true,
   "autoclose": false,
   "autocomplete": true,
   "bibliofile": "biblio.bib",
   "cite_by": "apalike",
   "current_citInitial": 1,
   "eqLabelWithNumbers": true,
   "eqNumInitial": 1,
   "hotkeys": {
    "equation": "Ctrl-E",
    "itemize": "Ctrl-I"
   },
   "labels_anchors": false,
   "latex_user_defs": false,
   "report_style_numbering": false,
   "user_envs_cfg": false
  },
  "toc": {
   "base_numbering": "11",
   "nav_menu": {},
   "number_sections": true,
   "sideBar": true,
   "skip_h1_title": false,
   "title_cell": "Table of Contents",
   "title_sidebar": "Contents",
   "toc_cell": false,
   "toc_position": {},
   "toc_section_display": true,
   "toc_window_display": true
  }
 },
 "nbformat": 4,
 "nbformat_minor": 4
}
